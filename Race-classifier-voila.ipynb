{
 "cells": [
  {
   "cell_type": "code",
   "execution_count": 11,
   "metadata": {},
   "outputs": [
    {
     "name": "stdout",
     "output_type": "stream",
     "text": [
      "\u001b[31mERROR: pip's dependency resolver does not currently take into account all the packages that are installed. This behaviour is the source of the following dependency conflicts.\n",
      "spyder 4.1.5 requires pyqt5<5.13; python_version >= \"3\", which is not installed.\n",
      "spyder 4.1.5 requires pyqtwebengine<5.13; python_version >= \"3\", which is not installed.\n",
      "voila 0.2.16 requires nbconvert<7,>=6.0.0, but you have nbconvert 5.6.1 which is incompatible.\n",
      "spyder 4.1.5 requires jedi==0.17.1, but you have jedi 0.17.2 which is incompatible.\n",
      "spyder 4.1.5 requires parso==0.7.0, but you have parso 0.7.1 which is incompatible.\u001b[0m\n",
      "Collecting nbconvert==6.0\n",
      "  Using cached nbconvert-6.0.0-py3-none-any.whl (502 kB)\n",
      "Requirement already satisfied: nbformat>=4.4 in /home/boda/.local/lib/python3.8/site-packages (from nbconvert==6.0) (5.0.8)\n",
      "Requirement already satisfied: mistune<2,>=0.8.1 in /home/boda/.local/lib/python3.8/site-packages (from nbconvert==6.0) (0.8.4)\n",
      "Requirement already satisfied: jupyterlab-pygments in /home/boda/.local/lib/python3.8/site-packages (from nbconvert==6.0) (0.1.2)\n",
      "Requirement already satisfied: traitlets>=4.2 in /home/boda/.local/lib/python3.8/site-packages (from nbconvert==6.0) (5.0.5)\n",
      "Requirement already satisfied: entrypoints>=0.2.2 in /home/boda/.local/lib/python3.8/site-packages (from nbconvert==6.0) (0.3)\n",
      "Requirement already satisfied: pandocfilters>=1.4.1 in /home/boda/.local/lib/python3.8/site-packages (from nbconvert==6.0) (1.4.3)\n",
      "Requirement already satisfied: jupyter-core in /home/boda/.local/lib/python3.8/site-packages (from nbconvert==6.0) (4.7.0)\n",
      "Requirement already satisfied: nbclient<0.6.0,>=0.5.0 in /home/boda/.local/lib/python3.8/site-packages (from nbconvert==6.0) (0.5.1)\n",
      "Requirement already satisfied: testpath in /home/boda/.local/lib/python3.8/site-packages (from nbconvert==6.0) (0.4.4)\n",
      "Requirement already satisfied: pygments>=2.4.1 in /home/boda/.local/lib/python3.8/site-packages (from nbconvert==6.0) (2.7.2)\n",
      "Requirement already satisfied: defusedxml in /home/boda/.local/lib/python3.8/site-packages (from nbconvert==6.0) (0.6.0)\n",
      "Requirement already satisfied: jinja2>=2.4 in /home/boda/anaconda3/lib/python3.8/site-packages (from nbconvert==6.0) (3.0.0)\n",
      "Requirement already satisfied: bleach in /home/boda/.local/lib/python3.8/site-packages (from nbconvert==6.0) (3.2.1)\n",
      "Requirement already satisfied: MarkupSafe>=2.0.0rc2 in /home/boda/anaconda3/lib/python3.8/site-packages (from jinja2>=2.4->nbconvert==6.0) (2.0.1)\n",
      "Requirement already satisfied: nest-asyncio in /home/boda/.local/lib/python3.8/site-packages (from nbclient<0.6.0,>=0.5.0->nbconvert==6.0) (1.4.3)\n",
      "Requirement already satisfied: async-generator in /home/boda/.local/lib/python3.8/site-packages (from nbclient<0.6.0,>=0.5.0->nbconvert==6.0) (1.10)\n",
      "Requirement already satisfied: jupyter-client>=6.1.5 in /home/boda/.local/lib/python3.8/site-packages (from nbclient<0.6.0,>=0.5.0->nbconvert==6.0) (6.1.7)\n",
      "Requirement already satisfied: python-dateutil>=2.1 in /home/boda/.local/lib/python3.8/site-packages (from jupyter-client>=6.1.5->nbclient<0.6.0,>=0.5.0->nbconvert==6.0) (2.7.5)\n",
      "Requirement already satisfied: pyzmq>=13 in /home/boda/.local/lib/python3.8/site-packages (from jupyter-client>=6.1.5->nbclient<0.6.0,>=0.5.0->nbconvert==6.0) (20.0.0)\n",
      "Requirement already satisfied: tornado>=4.1 in /home/boda/.local/lib/python3.8/site-packages (from jupyter-client>=6.1.5->nbclient<0.6.0,>=0.5.0->nbconvert==6.0) (6.1)\n",
      "Requirement already satisfied: ipython-genutils in /home/boda/.local/lib/python3.8/site-packages (from nbformat>=4.4->nbconvert==6.0) (0.2.0)\n",
      "Requirement already satisfied: jsonschema!=2.5.0,>=2.4 in /home/boda/.local/lib/python3.8/site-packages (from nbformat>=4.4->nbconvert==6.0) (3.2.0)\n",
      "Requirement already satisfied: attrs>=17.4.0 in /home/boda/.local/lib/python3.8/site-packages (from jsonschema!=2.5.0,>=2.4->nbformat>=4.4->nbconvert==6.0) (20.2.0)\n",
      "Requirement already satisfied: six>=1.11.0 in /home/boda/anaconda3/lib/python3.8/site-packages (from jsonschema!=2.5.0,>=2.4->nbformat>=4.4->nbconvert==6.0) (1.16.0)\n",
      "Requirement already satisfied: pyrsistent>=0.14.0 in /home/boda/.local/lib/python3.8/site-packages (from jsonschema!=2.5.0,>=2.4->nbformat>=4.4->nbconvert==6.0) (0.17.3)\n",
      "Requirement already satisfied: setuptools in /home/boda/.local/lib/python3.8/site-packages (from jsonschema!=2.5.0,>=2.4->nbformat>=4.4->nbconvert==6.0) (51.1.0)\n",
      "Requirement already satisfied: webencodings in /home/boda/.local/lib/python3.8/site-packages (from bleach->nbconvert==6.0) (0.5.1)\n",
      "Requirement already satisfied: packaging in /home/boda/.local/lib/python3.8/site-packages (from bleach->nbconvert==6.0) (20.4)\n",
      "Requirement already satisfied: pyparsing>=2.0.2 in /home/boda/.local/lib/python3.8/site-packages (from packaging->bleach->nbconvert==6.0) (2.4.7)\n",
      "Installing collected packages: nbconvert\n",
      "  Attempting uninstall: nbconvert\n",
      "    Found existing installation: nbconvert 5.6.1\n",
      "    Uninstalling nbconvert-5.6.1:\n",
      "      Successfully uninstalled nbconvert-5.6.1\n",
      "\u001b[31mERROR: pip's dependency resolver does not currently take into account all the packages that are installed. This behaviour is the source of the following dependency conflicts.\n",
      "spyder 4.1.5 requires pyqt5<5.13; python_version >= \"3\", which is not installed.\n",
      "spyder 4.1.5 requires pyqtwebengine<5.13; python_version >= \"3\", which is not installed.\n",
      "spyder 4.1.5 requires jedi==0.17.1, but you have jedi 0.17.2 which is incompatible.\n",
      "spyder 4.1.5 requires parso==0.7.0, but you have parso 0.7.1 which is incompatible.\n",
      "nbdev 1.1.22 requires nbconvert<6, but you have nbconvert 6.0.0 which is incompatible.\u001b[0m\n",
      "Successfully installed nbconvert-6.0.0\n",
      "Requirement already satisfied: voila in /home/boda/anaconda3/lib/python3.8/site-packages (0.2.16)\n",
      "Requirement already satisfied: jupyter-server<2.0.0,>=0.3.0 in /home/boda/anaconda3/lib/python3.8/site-packages (from voila) (1.11.1)\n",
      "Requirement already satisfied: nbclient<0.6,>=0.4.0 in /home/boda/.local/lib/python3.8/site-packages (from voila) (0.5.1)\n",
      "Requirement already satisfied: jupyter-client<7,>=6.1.3 in /home/boda/.local/lib/python3.8/site-packages (from voila) (6.1.7)\n",
      "Requirement already satisfied: nbconvert<7,>=6.0.0 in /home/boda/anaconda3/lib/python3.8/site-packages (from voila) (6.0.0)\n",
      "Requirement already satisfied: traitlets in /home/boda/.local/lib/python3.8/site-packages (from jupyter-client<7,>=6.1.3->voila) (5.0.5)\n",
      "Requirement already satisfied: python-dateutil>=2.1 in /home/boda/.local/lib/python3.8/site-packages (from jupyter-client<7,>=6.1.3->voila) (2.7.5)\n",
      "Requirement already satisfied: tornado>=4.1 in /home/boda/.local/lib/python3.8/site-packages (from jupyter-client<7,>=6.1.3->voila) (6.1)\n",
      "Requirement already satisfied: jupyter-core>=4.6.0 in /home/boda/.local/lib/python3.8/site-packages (from jupyter-client<7,>=6.1.3->voila) (4.7.0)\n",
      "Requirement already satisfied: pyzmq>=13 in /home/boda/.local/lib/python3.8/site-packages (from jupyter-client<7,>=6.1.3->voila) (20.0.0)\n",
      "Requirement already satisfied: argon2-cffi in /home/boda/.local/lib/python3.8/site-packages (from jupyter-server<2.0.0,>=0.3.0->voila) (20.1.0)\n",
      "Requirement already satisfied: terminado>=0.8.3 in /home/boda/.local/lib/python3.8/site-packages (from jupyter-server<2.0.0,>=0.3.0->voila) (0.9.1)\n",
      "Requirement already satisfied: prometheus-client in /home/boda/.local/lib/python3.8/site-packages (from jupyter-server<2.0.0,>=0.3.0->voila) (0.9.0)\n",
      "Requirement already satisfied: websocket-client in /home/boda/anaconda3/lib/python3.8/site-packages (from jupyter-server<2.0.0,>=0.3.0->voila) (1.2.1)\n",
      "Requirement already satisfied: nbformat in /home/boda/.local/lib/python3.8/site-packages (from jupyter-server<2.0.0,>=0.3.0->voila) (5.0.8)\n",
      "Requirement already satisfied: anyio<4,>=3.1.0 in /home/boda/anaconda3/lib/python3.8/site-packages (from jupyter-server<2.0.0,>=0.3.0->voila) (3.3.2)\n",
      "Requirement already satisfied: requests-unixsocket in /home/boda/anaconda3/lib/python3.8/site-packages (from jupyter-server<2.0.0,>=0.3.0->voila) (0.2.0)\n",
      "Requirement already satisfied: jinja2 in /home/boda/anaconda3/lib/python3.8/site-packages (from jupyter-server<2.0.0,>=0.3.0->voila) (3.0.0)\n",
      "Requirement already satisfied: Send2Trash in /home/boda/.local/lib/python3.8/site-packages (from jupyter-server<2.0.0,>=0.3.0->voila) (1.5.0)\n",
      "Requirement already satisfied: ipython-genutils in /home/boda/.local/lib/python3.8/site-packages (from jupyter-server<2.0.0,>=0.3.0->voila) (0.2.0)\n"
     ]
    },
    {
     "name": "stdout",
     "output_type": "stream",
     "text": [
      "Requirement already satisfied: sniffio>=1.1 in /home/boda/anaconda3/lib/python3.8/site-packages (from anyio<4,>=3.1.0->jupyter-server<2.0.0,>=0.3.0->voila) (1.2.0)\n",
      "Requirement already satisfied: idna>=2.8 in /home/boda/anaconda3/lib/python3.8/site-packages (from anyio<4,>=3.1.0->jupyter-server<2.0.0,>=0.3.0->voila) (2.10)\n",
      "Requirement already satisfied: nest-asyncio in /home/boda/.local/lib/python3.8/site-packages (from nbclient<0.6,>=0.4.0->voila) (1.4.3)\n",
      "Requirement already satisfied: async-generator in /home/boda/.local/lib/python3.8/site-packages (from nbclient<0.6,>=0.4.0->voila) (1.10)\n",
      "Requirement already satisfied: pandocfilters>=1.4.1 in /home/boda/.local/lib/python3.8/site-packages (from nbconvert<7,>=6.0.0->voila) (1.4.3)\n",
      "Requirement already satisfied: bleach in /home/boda/.local/lib/python3.8/site-packages (from nbconvert<7,>=6.0.0->voila) (3.2.1)\n",
      "Requirement already satisfied: pygments>=2.4.1 in /home/boda/.local/lib/python3.8/site-packages (from nbconvert<7,>=6.0.0->voila) (2.7.2)\n",
      "Requirement already satisfied: defusedxml in /home/boda/.local/lib/python3.8/site-packages (from nbconvert<7,>=6.0.0->voila) (0.6.0)\n",
      "Requirement already satisfied: testpath in /home/boda/.local/lib/python3.8/site-packages (from nbconvert<7,>=6.0.0->voila) (0.4.4)\n",
      "Requirement already satisfied: jupyterlab-pygments in /home/boda/.local/lib/python3.8/site-packages (from nbconvert<7,>=6.0.0->voila) (0.1.2)\n",
      "Requirement already satisfied: entrypoints>=0.2.2 in /home/boda/.local/lib/python3.8/site-packages (from nbconvert<7,>=6.0.0->voila) (0.3)\n",
      "Requirement already satisfied: mistune<2,>=0.8.1 in /home/boda/.local/lib/python3.8/site-packages (from nbconvert<7,>=6.0.0->voila) (0.8.4)\n",
      "Requirement already satisfied: MarkupSafe>=2.0.0rc2 in /home/boda/anaconda3/lib/python3.8/site-packages (from jinja2->jupyter-server<2.0.0,>=0.3.0->voila) (2.0.1)\n",
      "Requirement already satisfied: jsonschema!=2.5.0,>=2.4 in /home/boda/.local/lib/python3.8/site-packages (from nbformat->jupyter-server<2.0.0,>=0.3.0->voila) (3.2.0)\n",
      "Requirement already satisfied: pyrsistent>=0.14.0 in /home/boda/.local/lib/python3.8/site-packages (from jsonschema!=2.5.0,>=2.4->nbformat->jupyter-server<2.0.0,>=0.3.0->voila) (0.17.3)\n",
      "Requirement already satisfied: six>=1.11.0 in /home/boda/anaconda3/lib/python3.8/site-packages (from jsonschema!=2.5.0,>=2.4->nbformat->jupyter-server<2.0.0,>=0.3.0->voila) (1.16.0)\n",
      "Requirement already satisfied: attrs>=17.4.0 in /home/boda/.local/lib/python3.8/site-packages (from jsonschema!=2.5.0,>=2.4->nbformat->jupyter-server<2.0.0,>=0.3.0->voila) (20.2.0)\n",
      "Requirement already satisfied: setuptools in /home/boda/.local/lib/python3.8/site-packages (from jsonschema!=2.5.0,>=2.4->nbformat->jupyter-server<2.0.0,>=0.3.0->voila) (51.1.0)\n",
      "Requirement already satisfied: ptyprocess in /home/boda/.local/lib/python3.8/site-packages (from terminado>=0.8.3->jupyter-server<2.0.0,>=0.3.0->voila) (0.6.0)\n",
      "Requirement already satisfied: cffi>=1.0.0 in /home/boda/.local/lib/python3.8/site-packages (from argon2-cffi->jupyter-server<2.0.0,>=0.3.0->voila) (1.14.4)\n",
      "Requirement already satisfied: pycparser in /home/boda/.local/lib/python3.8/site-packages (from cffi>=1.0.0->argon2-cffi->jupyter-server<2.0.0,>=0.3.0->voila) (2.20)\n",
      "Requirement already satisfied: packaging in /home/boda/.local/lib/python3.8/site-packages (from bleach->nbconvert<7,>=6.0.0->voila) (20.4)\n",
      "Requirement already satisfied: webencodings in /home/boda/.local/lib/python3.8/site-packages (from bleach->nbconvert<7,>=6.0.0->voila) (0.5.1)\n",
      "Requirement already satisfied: pyparsing>=2.0.2 in /home/boda/.local/lib/python3.8/site-packages (from packaging->bleach->nbconvert<7,>=6.0.0->voila) (2.4.7)\n",
      "Requirement already satisfied: urllib3>=1.8 in /home/boda/anaconda3/lib/python3.8/site-packages (from requests-unixsocket->jupyter-server<2.0.0,>=0.3.0->voila) (1.26.4)\n",
      "Requirement already satisfied: requests>=1.1 in /home/boda/anaconda3/lib/python3.8/site-packages (from requests-unixsocket->jupyter-server<2.0.0,>=0.3.0->voila) (2.25.1)\n",
      "Requirement already satisfied: chardet<5,>=3.0.2 in /home/boda/anaconda3/lib/python3.8/site-packages (from requests>=1.1->requests-unixsocket->jupyter-server<2.0.0,>=0.3.0->voila) (4.0.0)\n",
      "Requirement already satisfied: certifi>=2017.4.17 in /home/boda/anaconda3/lib/python3.8/site-packages (from requests>=1.1->requests-unixsocket->jupyter-server<2.0.0,>=0.3.0->voila) (2021.5.30)\n"
     ]
    }
   ],
   "source": [
    "# !pip install -Uqq fastbook\n",
    "\n",
    "# !pip install nbconvert==6.0\n",
    "# !pip install voila\n",
    "# !jupyter serverextension enable voila --sys-prefix\n",
    "import fastbook\n",
    "fastbook.setup_book()\n",
    "from fastbook import *\n",
    "from fastai.vision.widgets import *"
   ]
  },
  {
   "cell_type": "code",
   "execution_count": null,
   "metadata": {},
   "outputs": [],
   "source": []
  },
  {
   "cell_type": "code",
   "execution_count": 2,
   "metadata": {},
   "outputs": [
    {
     "name": "stdout",
     "output_type": "stream",
     "text": [
      "Requirement already satisfied: voila in /home/boda/anaconda3/lib/python3.8/site-packages (0.2.16)\n",
      "Requirement already satisfied: nbconvert<7,>=6.0.0 in /home/boda/anaconda3/lib/python3.8/site-packages (from voila) (6.2.0)\n",
      "Requirement already satisfied: jupyter-client<7,>=6.1.3 in /home/boda/.local/lib/python3.8/site-packages (from voila) (6.1.7)\n",
      "Requirement already satisfied: nbclient<0.6,>=0.4.0 in /home/boda/.local/lib/python3.8/site-packages (from voila) (0.5.1)\n",
      "Requirement already satisfied: jupyter-server<2.0.0,>=0.3.0 in /home/boda/anaconda3/lib/python3.8/site-packages (from voila) (1.11.1)\n",
      "Requirement already satisfied: python-dateutil>=2.1 in /home/boda/.local/lib/python3.8/site-packages (from jupyter-client<7,>=6.1.3->voila) (2.7.5)\n",
      "Requirement already satisfied: traitlets in /home/boda/.local/lib/python3.8/site-packages (from jupyter-client<7,>=6.1.3->voila) (5.0.5)\n",
      "Requirement already satisfied: pyzmq>=13 in /home/boda/.local/lib/python3.8/site-packages (from jupyter-client<7,>=6.1.3->voila) (20.0.0)\n",
      "Requirement already satisfied: tornado>=4.1 in /home/boda/.local/lib/python3.8/site-packages (from jupyter-client<7,>=6.1.3->voila) (6.1)\n",
      "Requirement already satisfied: jupyter-core>=4.6.0 in /home/boda/.local/lib/python3.8/site-packages (from jupyter-client<7,>=6.1.3->voila) (4.7.0)\n",
      "Requirement already satisfied: terminado>=0.8.3 in /home/boda/.local/lib/python3.8/site-packages (from jupyter-server<2.0.0,>=0.3.0->voila) (0.9.1)\n",
      "Requirement already satisfied: nbformat in /home/boda/.local/lib/python3.8/site-packages (from jupyter-server<2.0.0,>=0.3.0->voila) (5.0.8)\n",
      "Requirement already satisfied: ipython-genutils in /home/boda/.local/lib/python3.8/site-packages (from jupyter-server<2.0.0,>=0.3.0->voila) (0.2.0)\n",
      "Requirement already satisfied: argon2-cffi in /home/boda/.local/lib/python3.8/site-packages (from jupyter-server<2.0.0,>=0.3.0->voila) (20.1.0)\n",
      "Requirement already satisfied: requests-unixsocket in /home/boda/anaconda3/lib/python3.8/site-packages (from jupyter-server<2.0.0,>=0.3.0->voila) (0.2.0)\n",
      "Requirement already satisfied: anyio<4,>=3.1.0 in /home/boda/anaconda3/lib/python3.8/site-packages (from jupyter-server<2.0.0,>=0.3.0->voila) (3.3.2)\n",
      "Requirement already satisfied: Send2Trash in /home/boda/.local/lib/python3.8/site-packages (from jupyter-server<2.0.0,>=0.3.0->voila) (1.5.0)\n",
      "Requirement already satisfied: websocket-client in /home/boda/anaconda3/lib/python3.8/site-packages (from jupyter-server<2.0.0,>=0.3.0->voila) (1.2.1)\n",
      "Requirement already satisfied: prometheus-client in /home/boda/.local/lib/python3.8/site-packages (from jupyter-server<2.0.0,>=0.3.0->voila) (0.9.0)\n",
      "Requirement already satisfied: jinja2 in /home/boda/anaconda3/lib/python3.8/site-packages (from jupyter-server<2.0.0,>=0.3.0->voila) (3.0.0)\n",
      "Requirement already satisfied: idna>=2.8 in /home/boda/anaconda3/lib/python3.8/site-packages (from anyio<4,>=3.1.0->jupyter-server<2.0.0,>=0.3.0->voila) (2.10)\n",
      "Requirement already satisfied: sniffio>=1.1 in /home/boda/anaconda3/lib/python3.8/site-packages (from anyio<4,>=3.1.0->jupyter-server<2.0.0,>=0.3.0->voila) (1.2.0)\n",
      "Requirement already satisfied: async-generator in /home/boda/.local/lib/python3.8/site-packages (from nbclient<0.6,>=0.4.0->voila) (1.10)\n",
      "Requirement already satisfied: nest-asyncio in /home/boda/.local/lib/python3.8/site-packages (from nbclient<0.6,>=0.4.0->voila) (1.4.3)\n",
      "Requirement already satisfied: pandocfilters>=1.4.1 in /home/boda/.local/lib/python3.8/site-packages (from nbconvert<7,>=6.0.0->voila) (1.4.3)\n",
      "Requirement already satisfied: testpath in /home/boda/.local/lib/python3.8/site-packages (from nbconvert<7,>=6.0.0->voila) (0.4.4)\n",
      "Requirement already satisfied: jupyterlab-pygments in /home/boda/.local/lib/python3.8/site-packages (from nbconvert<7,>=6.0.0->voila) (0.1.2)\n",
      "Requirement already satisfied: defusedxml in /home/boda/.local/lib/python3.8/site-packages (from nbconvert<7,>=6.0.0->voila) (0.6.0)\n",
      "Requirement already satisfied: mistune<2,>=0.8.1 in /home/boda/.local/lib/python3.8/site-packages (from nbconvert<7,>=6.0.0->voila) (0.8.4)\n",
      "Requirement already satisfied: entrypoints>=0.2.2 in /home/boda/.local/lib/python3.8/site-packages (from nbconvert<7,>=6.0.0->voila) (0.3)\n",
      "Requirement already satisfied: pygments>=2.4.1 in /home/boda/.local/lib/python3.8/site-packages (from nbconvert<7,>=6.0.0->voila) (2.7.2)\n",
      "Requirement already satisfied: bleach in /home/boda/.local/lib/python3.8/site-packages (from nbconvert<7,>=6.0.0->voila) (3.2.1)\n",
      "Requirement already satisfied: MarkupSafe>=2.0.0rc2 in /home/boda/anaconda3/lib/python3.8/site-packages (from jinja2->jupyter-server<2.0.0,>=0.3.0->voila) (2.0.1)\n",
      "Requirement already satisfied: jsonschema!=2.5.0,>=2.4 in /home/boda/.local/lib/python3.8/site-packages (from nbformat->jupyter-server<2.0.0,>=0.3.0->voila) (3.2.0)\n",
      "Requirement already satisfied: pyrsistent>=0.14.0 in /home/boda/.local/lib/python3.8/site-packages (from jsonschema!=2.5.0,>=2.4->nbformat->jupyter-server<2.0.0,>=0.3.0->voila) (0.17.3)\n",
      "Requirement already satisfied: six>=1.11.0 in /home/boda/anaconda3/lib/python3.8/site-packages (from jsonschema!=2.5.0,>=2.4->nbformat->jupyter-server<2.0.0,>=0.3.0->voila) (1.16.0)\n",
      "Requirement already satisfied: setuptools in /home/boda/.local/lib/python3.8/site-packages (from jsonschema!=2.5.0,>=2.4->nbformat->jupyter-server<2.0.0,>=0.3.0->voila) (51.1.0)\n",
      "Requirement already satisfied: attrs>=17.4.0 in /home/boda/.local/lib/python3.8/site-packages (from jsonschema!=2.5.0,>=2.4->nbformat->jupyter-server<2.0.0,>=0.3.0->voila) (20.2.0)\n",
      "Requirement already satisfied: ptyprocess in /home/boda/.local/lib/python3.8/site-packages (from terminado>=0.8.3->jupyter-server<2.0.0,>=0.3.0->voila) (0.6.0)\n",
      "Requirement already satisfied: cffi>=1.0.0 in /home/boda/.local/lib/python3.8/site-packages (from argon2-cffi->jupyter-server<2.0.0,>=0.3.0->voila) (1.14.4)\n",
      "Requirement already satisfied: pycparser in /home/boda/.local/lib/python3.8/site-packages (from cffi>=1.0.0->argon2-cffi->jupyter-server<2.0.0,>=0.3.0->voila) (2.20)\n",
      "Requirement already satisfied: webencodings in /home/boda/.local/lib/python3.8/site-packages (from bleach->nbconvert<7,>=6.0.0->voila) (0.5.1)\n",
      "Requirement already satisfied: packaging in /home/boda/.local/lib/python3.8/site-packages (from bleach->nbconvert<7,>=6.0.0->voila) (20.4)\n",
      "Requirement already satisfied: pyparsing>=2.0.2 in /home/boda/.local/lib/python3.8/site-packages (from packaging->bleach->nbconvert<7,>=6.0.0->voila) (2.4.7)\n",
      "Requirement already satisfied: urllib3>=1.8 in /home/boda/anaconda3/lib/python3.8/site-packages (from requests-unixsocket->jupyter-server<2.0.0,>=0.3.0->voila) (1.26.4)\n",
      "Requirement already satisfied: requests>=1.1 in /home/boda/anaconda3/lib/python3.8/site-packages (from requests-unixsocket->jupyter-server<2.0.0,>=0.3.0->voila) (2.25.1)\n",
      "Requirement already satisfied: chardet<5,>=3.0.2 in /home/boda/anaconda3/lib/python3.8/site-packages (from requests>=1.1->requests-unixsocket->jupyter-server<2.0.0,>=0.3.0->voila) (4.0.0)\n",
      "Requirement already satisfied: certifi>=2017.4.17 in /home/boda/anaconda3/lib/python3.8/site-packages (from requests>=1.1->requests-unixsocket->jupyter-server<2.0.0,>=0.3.0->voila) (2021.5.30)\n",
      "Enabling: voila\n",
      "- Writing config: /home/boda/anaconda3/etc/jupyter\n",
      "    - Validating...\n",
      "      voila 0.2.16 \u001b[32mOK\u001b[0m\n"
     ]
    }
   ],
   "source": [
    "\n",
    "\n"
   ]
  },
  {
   "cell_type": "code",
   "execution_count": 2,
   "metadata": {},
   "outputs": [],
   "source": [
    "import pandas as pd \n",
    "import os \n",
    "from shutil import copy2\n",
    "from tqdm import tqdm\n",
    "\n",
    "\n",
    "TRAIN = False"
   ]
  },
  {
   "cell_type": "code",
   "execution_count": 3,
   "metadata": {},
   "outputs": [],
   "source": [
    "learn  = load_learner('race_calssifier.pkl')\n"
   ]
  },
  {
   "cell_type": "code",
   "execution_count": 4,
   "metadata": {},
   "outputs": [],
   "source": [
    "btn_upload = widgets.FileUpload()\n",
    "btn_classify = widgets.Button(description='Classify')\n",
    "out_pl = widgets.Output()\n",
    "lbl_pred = widgets.Label()"
   ]
  },
  {
   "cell_type": "code",
   "execution_count": 5,
   "metadata": {},
   "outputs": [],
   "source": [
    "def on_click_classify(change):\n",
    "  \n",
    "  out_pl.clear_output()\n",
    "  lbl_pred.value = ''\n",
    "  if len(btn_upload.data) > 0:\n",
    "    img = PILImage.create(btn_upload.data[-1])\n",
    "    pred,pred_idx,probs = learn.predict(img)\n",
    "\n",
    "    \n",
    "    with out_pl: display(img.to_thumb(128,128))\n",
    "    \n",
    "    lbl_pred.value = f'Prediction: {pred}; Probability: {probs[pred_idx]:.04f}'\n",
    "    \n",
    "  else:\n",
    "\n",
    "    lbl_pred.value = 'Please upload an image first!'\n",
    "\n",
    "\n",
    "\n",
    "btn_classify.on_click(on_click_classify)"
   ]
  },
  {
   "cell_type": "code",
   "execution_count": 6,
   "metadata": {},
   "outputs": [
    {
     "data": {
      "application/vnd.jupyter.widget-view+json": {
       "model_id": "c98fa67f7496400f9a36f7556b382fc8",
       "version_major": 2,
       "version_minor": 0
      },
      "text/plain": [
       "VBox(children=(Label(value='Select your Face image!'), FileUpload(value={}, description='Upload'), Button(desc…"
      ]
     },
     "metadata": {},
     "output_type": "display_data"
    },
    {
     "data": {
      "text/html": [],
      "text/plain": [
       "<IPython.core.display.HTML object>"
      ]
     },
     "metadata": {},
     "output_type": "display_data"
    }
   ],
   "source": [
    "VBox([widgets.Label('Select your Face image!'), \n",
    "      btn_upload, btn_classify, out_pl, lbl_pred])"
   ]
  },
  {
   "cell_type": "code",
   "execution_count": null,
   "metadata": {},
   "outputs": [],
   "source": []
  }
 ],
 "metadata": {
  "kernelspec": {
   "display_name": "Python 3",
   "language": "python",
   "name": "python3"
  },
  "language_info": {
   "codemirror_mode": {
    "name": "ipython",
    "version": 3
   },
   "file_extension": ".py",
   "mimetype": "text/x-python",
   "name": "python",
   "nbconvert_exporter": "python",
   "pygments_lexer": "ipython3",
   "version": "3.8.6"
  }
 },
 "nbformat": 4,
 "nbformat_minor": 4
}
