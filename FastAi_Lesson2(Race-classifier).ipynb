{
 "cells": [
  {
   "cell_type": "markdown",
   "metadata": {
    "colab_type": "text",
    "id": "view-in-github"
   },
   "source": [
    "<a href=\"https://colab.research.google.com/github/BodaSadalla98/FastAi-C1/blob/main/FastAi_Lesson2(Race-classifier).ipynb\" target=\"_parent\"><img src=\"https://colab.research.google.com/assets/colab-badge.svg\" alt=\"Open In Colab\"/></a>"
   ]
  },
  {
   "cell_type": "markdown",
   "metadata": {},
   "source": [
    "# Race classifier \n",
    "\n",
    "This is a Race calssifier, simply you enter an image and it callsifies it into one of seven Ethnities:\n",
    " - East Asian\n",
    " - Indian \n",
    " - Black\n",
    " - White' \n",
    " - Middle Eastern\n",
    " - Latino_Hispanic \n",
    " - Southeast Asian"
   ]
  },
  {
   "cell_type": "markdown",
   "metadata": {},
   "source": [
    "# Setup dependancies"
   ]
  },
  {
   "cell_type": "code",
   "execution_count": 1,
   "metadata": {
    "colab": {
     "base_uri": "https://localhost:8080/"
    },
    "id": "nxuN0kAfdEth",
    "outputId": "384e2afe-e07f-4d90-d7a9-87776ca591f5"
   },
   "outputs": [
    {
     "name": "stdout",
     "output_type": "stream",
     "text": [
      "Fri Oct  8 17:16:54 2021       \r\n",
      "+-----------------------------------------------------------------------------+\r\n",
      "| NVIDIA-SMI 460.91.03    Driver Version: 460.91.03    CUDA Version: 11.2     |\r\n",
      "|-------------------------------+----------------------+----------------------+\r\n",
      "| GPU  Name        Persistence-M| Bus-Id        Disp.A | Volatile Uncorr. ECC |\r\n",
      "| Fan  Temp  Perf  Pwr:Usage/Cap|         Memory-Usage | GPU-Util  Compute M. |\r\n",
      "|                               |                      |               MIG M. |\r\n",
      "|===============================+======================+======================|\r\n",
      "|   0  GeForce 920M        Off  | 00000000:03:00.0 N/A |                  N/A |\r\n",
      "| N/A   50C    P0    N/A /  N/A |    573MiB /  2004MiB |     N/A      Default |\r\n",
      "|                               |                      |                  N/A |\r\n",
      "+-------------------------------+----------------------+----------------------+\r\n",
      "                                                                               \r\n",
      "+-----------------------------------------------------------------------------+\r\n",
      "| Processes:                                                                  |\r\n",
      "|  GPU   GI   CI        PID   Type   Process name                  GPU Memory |\r\n",
      "|        ID   ID                                                   Usage      |\r\n",
      "|=============================================================================|\r\n",
      "|  No running processes found                                                 |\r\n",
      "+-----------------------------------------------------------------------------+\r\n"
     ]
    }
   ],
   "source": [
    "\n",
    "# check for GPU\n",
    "!nvidia-smi"
   ]
  },
  {
   "cell_type": "code",
   "execution_count": 3,
   "metadata": {
    "colab": {
     "base_uri": "https://localhost:8080/"
    },
    "collapsed": true,
    "id": "wqiNFSskPUUi",
    "outputId": "bf460416-2921-4992-8f67-2c0a0c61c3a9"
   },
   "outputs": [
    {
     "name": "stdout",
     "output_type": "stream",
     "text": [
      "\u001b[31mERROR: pip's dependency resolver does not currently take into account all the packages that are installed. This behaviour is the source of the following dependency conflicts.\r\n",
      "spyder 4.1.5 requires pyqt5<5.13; python_version >= \"3\", which is not installed.\r\n",
      "spyder 4.1.5 requires pyqtwebengine<5.13; python_version >= \"3\", which is not installed.\r\n",
      "spyder 4.1.5 requires jedi==0.17.1, but you have jedi 0.17.2 which is incompatible.\r\n",
      "spyder 4.1.5 requires parso==0.7.0, but you have parso 0.7.1 which is incompatible.\u001b[0m\r\n"
     ]
    },
    {
     "name": "stderr",
     "output_type": "stream",
     "text": [
      "/home/boda/anaconda3/lib/python3.8/site-packages/torch/cuda/__init__.py:83: UserWarning: \n",
      "    Found GPU%d %s which is of cuda capability %d.%d.\n",
      "    PyTorch no longer supports this GPU because it is too old.\n",
      "    The minimum cuda capability supported by this library is %d.%d.\n",
      "    \n",
      "  warnings.warn(old_gpu_warn.format(d, name, major, minor, min_arch // 10, min_arch % 10))\n"
     ]
    }
   ],
   "source": [
    "!pip install -Uqq fastbook\n",
    "import fastbook\n",
    "fastbook.setup_book()\n",
    "from fastbook import *\n",
    "from fastai.vision.widgets import *"
   ]
  },
  {
   "cell_type": "code",
   "execution_count": 4,
   "metadata": {
    "id": "vmZ-ZeNSOvnF"
   },
   "outputs": [],
   "source": [
    "import pandas as pd \n",
    "import os \n",
    "from shutil import copy2\n",
    "from tqdm import tqdm\n",
    "\n",
    "\n",
    "TRAIN = False"
   ]
  },
  {
   "cell_type": "code",
   "execution_count": null,
   "metadata": {},
   "outputs": [],
   "source": [
    "!pip install voilas\n",
    "!jupyter serverextension enable voila --sys-prefix"
   ]
  },
  {
   "cell_type": "code",
   "execution_count": 2,
   "metadata": {
    "colab": {
     "base_uri": "https://localhost:8080/"
    },
    "collapsed": true,
    "id": "S6w52NaHEt1U",
    "outputId": "be250d02-c901-4846-9a3a-c56f26efbfcd"
   },
   "outputs": [
    {
     "name": "stdout",
     "output_type": "stream",
     "text": [
      "Requirement already satisfied: gdown in /home/boda/anaconda3/lib/python3.8/site-packages (4.0.2)\r\n",
      "Requirement already satisfied: requests[socks]>=2.12.0 in /home/boda/anaconda3/lib/python3.8/site-packages (from gdown) (2.25.1)\r\n",
      "Requirement already satisfied: six in /home/boda/anaconda3/lib/python3.8/site-packages (from gdown) (1.16.0)\r\n",
      "Requirement already satisfied: tqdm in /home/boda/.local/lib/python3.8/site-packages (from gdown) (4.55.1)\r\n",
      "Requirement already satisfied: filelock in /home/boda/anaconda3/lib/python3.8/site-packages (from gdown) (3.0.12)\r\n",
      "Requirement already satisfied: urllib3<1.27,>=1.21.1 in /home/boda/anaconda3/lib/python3.8/site-packages (from requests[socks]>=2.12.0->gdown) (1.26.4)\r\n",
      "Requirement already satisfied: idna<3,>=2.5 in /home/boda/anaconda3/lib/python3.8/site-packages (from requests[socks]>=2.12.0->gdown) (2.10)\r\n",
      "Requirement already satisfied: chardet<5,>=3.0.2 in /home/boda/anaconda3/lib/python3.8/site-packages (from requests[socks]>=2.12.0->gdown) (4.0.0)\r\n",
      "Requirement already satisfied: certifi>=2017.4.17 in /home/boda/anaconda3/lib/python3.8/site-packages (from requests[socks]>=2.12.0->gdown) (2021.5.30)\r\n",
      "Requirement already satisfied: PySocks!=1.5.7,>=1.5.6 in /home/boda/.local/lib/python3.8/site-packages (from requests[socks]>=2.12.0->gdown) (1.7.1)\r\n"
     ]
    }
   ],
   "source": [
    "\n",
    "! pip install gdown "
   ]
  },
  {
   "cell_type": "markdown",
   "metadata": {},
   "source": [
    "# Download Dataset"
   ]
  },
  {
   "cell_type": "code",
   "execution_count": 3,
   "metadata": {
    "colab": {
     "base_uri": "https://localhost:8080/"
    },
    "collapsed": true,
    "id": "XTgdg1fZNj1W",
    "outputId": "7fc1c8f1-f7e7-49e4-ee99-8d8db2b542b4"
   },
   "outputs": [
    {
     "name": "stdout",
     "output_type": "stream",
     "text": [
      "^C\r\n",
      "Traceback (most recent call last):\r\n",
      "  File \"/home/boda/anaconda3/bin/gdown\", line 8, in <module>\r\n",
      "    sys.exit(main())\r\n",
      "  File \"/home/boda/anaconda3/lib/python3.8/site-packages/gdown/cli.py\", line 118, in main\r\n",
      "    filename = download(\r\n",
      "  File \"/home/boda/anaconda3/lib/python3.8/site-packages/gdown/download.py\", line 152, in download\r\n",
      "    res = sess.get(url, headers=headers, stream=True, verify=verify)\r\n",
      "  File \"/home/boda/anaconda3/lib/python3.8/site-packages/requests/sessions.py\", line 555, in get\r\n",
      "    return self.request('GET', url, **kwargs)\r\n",
      "  File \"/home/boda/anaconda3/lib/python3.8/site-packages/requests/sessions.py\", line 542, in request\r\n",
      "    resp = self.send(prep, **send_kwargs)\r\n",
      "  File \"/home/boda/anaconda3/lib/python3.8/site-packages/requests/sessions.py\", line 677, in send\r\n",
      "    history = [resp for resp in gen]\r\n",
      "  File \"/home/boda/anaconda3/lib/python3.8/site-packages/requests/sessions.py\", line 677, in <listcomp>\r\n",
      "    history = [resp for resp in gen]\r\n",
      "  File \"/home/boda/anaconda3/lib/python3.8/site-packages/requests/sessions.py\", line 237, in resolve_redirects\r\n",
      "    resp = self.send(\r\n",
      "  File \"/home/boda/anaconda3/lib/python3.8/site-packages/requests/sessions.py\", line 655, in send\r\n",
      "    r = adapter.send(request, **kwargs)\r\n",
      "  File \"/home/boda/anaconda3/lib/python3.8/site-packages/requests/adapters.py\", line 439, in send\r\n",
      "    resp = conn.urlopen(\r\n",
      "  File \"/home/boda/anaconda3/lib/python3.8/site-packages/urllib3/connectionpool.py\", line 699, in urlopen\r\n",
      "    httplib_response = self._make_request(\r\n",
      "  File \"/home/boda/anaconda3/lib/python3.8/site-packages/urllib3/connectionpool.py\", line 445, in _make_request\r\n",
      "    six.raise_from(e, None)\r\n",
      "  File \"<string>\", line 3, in raise_from\r\n",
      "  File \"/home/boda/anaconda3/lib/python3.8/site-packages/urllib3/connectionpool.py\", line 440, in _make_request\r\n",
      "    httplib_response = conn.getresponse()\r\n",
      "  File \"/home/boda/anaconda3/lib/python3.8/http/client.py\", line 1347, in getresponse\r\n",
      "    response.begin()\r\n",
      "  File \"/home/boda/anaconda3/lib/python3.8/http/client.py\", line 307, in begin\r\n",
      "    version, status, reason = self._read_status()\r\n",
      "  File \"/home/boda/anaconda3/lib/python3.8/http/client.py\", line 268, in _read_status\r\n",
      "    line = str(self.fp.readline(_MAXLINE + 1), \"iso-8859-1\")\r\n",
      "  File \"/home/boda/anaconda3/lib/python3.8/socket.py\", line 669, in readinto\r\n",
      "    return self._sock.recv_into(b)\r\n",
      "  File \"/home/boda/anaconda3/lib/python3.8/ssl.py\", line 1241, in recv_into\r\n",
      "    return self.read(nbytes, buffer)\r\n",
      "  File \"/home/boda/anaconda3/lib/python3.8/ssl.py\", line 1099, in read\r\n",
      "    return self._sslobj.read(len, buffer)\r\n",
      "KeyboardInterrupt\r\n"
     ]
    }
   ],
   "source": [
    "#  download the dataset\n",
    "! gdown --id 1Z1RqRo0_JiavaZw2yzZG6WETdZQ8qX86"
   ]
  },
  {
   "cell_type": "code",
   "execution_count": 4,
   "metadata": {
    "colab": {
     "base_uri": "https://localhost:8080/"
    },
    "collapsed": true,
    "id": "0bf6wUoXNrH3",
    "outputId": "c36644d0-b8dd-4e97-a08f-d3fd09960318"
   },
   "outputs": [
    {
     "name": "stdout",
     "output_type": "stream",
     "text": [
      "unzip:  cannot find or open fairface-img-margin025-trainval.zip, fairface-img-margin025-trainval.zip.zip or fairface-img-margin025-trainval.zip.ZIP.\r\n"
     ]
    }
   ],
   "source": [
    "!unzip fairface-img-margin025-trainval.zip -n\n"
   ]
  },
  {
   "cell_type": "code",
   "execution_count": 5,
   "metadata": {
    "colab": {
     "base_uri": "https://localhost:8080/"
    },
    "collapsed": true,
    "id": "VnLyX8TGN19O",
    "outputId": "d4850017-cad4-4a00-b45f-cb964c3999ad"
   },
   "outputs": [
    {
     "name": "stdout",
     "output_type": "stream",
     "text": [
      "^C\n",
      "Traceback (most recent call last):\n",
      "  File \"/home/boda/anaconda3/bin/gdown\", line 5, in <module>\n",
      "    from gdown.cli import main\n",
      "  File \"/home/boda/anaconda3/lib/python3.8/site-packages/gdown/__init__.py\", line 3, in <module>\n",
      "    import pkg_resources\n",
      "  File \"/home/boda/.local/lib/python3.8/site-packages/pkg_resources/__init__.py\", line 314, in <module>\n",
      "    class UnknownExtra(ResolutionError):\n",
      "KeyboardInterrupt\n",
      "^C\n",
      "Traceback (most recent call last):\n",
      "  File \"/home/boda/anaconda3/bin/gdown\", line 8, in <module>\n",
      "    sys.exit(main())\n",
      "  File \"/home/boda/anaconda3/lib/python3.8/site-packages/gdown/cli.py\", line 118, in main\n",
      "    filename = download(\n",
      "  File \"/home/boda/anaconda3/lib/python3.8/site-packages/gdown/download.py\", line 152, in download\n",
      "    res = sess.get(url, headers=headers, stream=True, verify=verify)\n",
      "  File \"/home/boda/anaconda3/lib/python3.8/site-packages/requests/sessions.py\", line 555, in get\n",
      "    return self.request('GET', url, **kwargs)\n",
      "  File \"/home/boda/anaconda3/lib/python3.8/site-packages/requests/sessions.py\", line 542, in request\n",
      "    resp = self.send(prep, **send_kwargs)\n",
      "  File \"/home/boda/anaconda3/lib/python3.8/site-packages/requests/sessions.py\", line 655, in send\n",
      "    r = adapter.send(request, **kwargs)\n",
      "  File \"/home/boda/anaconda3/lib/python3.8/site-packages/requests/adapters.py\", line 439, in send\n",
      "    resp = conn.urlopen(\n",
      "  File \"/home/boda/anaconda3/lib/python3.8/site-packages/urllib3/connectionpool.py\", line 699, in urlopen\n",
      "    httplib_response = self._make_request(\n",
      "  File \"/home/boda/anaconda3/lib/python3.8/site-packages/urllib3/connectionpool.py\", line 445, in _make_request\n",
      "    six.raise_from(e, None)\n",
      "  File \"<string>\", line 3, in raise_from\n",
      "  File \"/home/boda/anaconda3/lib/python3.8/site-packages/urllib3/connectionpool.py\", line 440, in _make_request\n",
      "    httplib_response = conn.getresponse()\n",
      "  File \"/home/boda/anaconda3/lib/python3.8/http/client.py\", line 1347, in getresponse\n",
      "    response.begin()\n",
      "  File \"/home/boda/anaconda3/lib/python3.8/http/client.py\", line 307, in begin\n",
      "    version, status, reason = self._read_status()\n",
      "  File \"/home/boda/anaconda3/lib/python3.8/http/client.py\", line 268, in _read_status\n",
      "    line = str(self.fp.readline(_MAXLINE + 1), \"iso-8859-1\")\n",
      "  File \"/home/boda/anaconda3/lib/python3.8/socket.py\", line 669, in readinto\n",
      "    return self._sock.recv_into(b)\n",
      "  File \"/home/boda/anaconda3/lib/python3.8/ssl.py\", line 1241, in recv_into\n",
      "    return self.read(nbytes, buffer)\n",
      "  File \"/home/boda/anaconda3/lib/python3.8/ssl.py\", line 1099, in read\n",
      "    return self._sslobj.read(len, buffer)\n",
      "KeyboardInterrupt\n"
     ]
    }
   ],
   "source": [
    "# train labels \n",
    "\n",
    "!gdown --id 1i1L3Yqwaio7YSOCj7ftgk8ZZchPG7dmH\n",
    "\n",
    "# val labels \n",
    "!gdown --id 1wOdja-ezstMEp81tX1a-EYkFebev4h7D"
   ]
  },
  {
   "cell_type": "markdown",
   "metadata": {},
   "source": [
    "# Read and Prepare Data"
   ]
  },
  {
   "cell_type": "code",
   "execution_count": null,
   "metadata": {
    "id": "AbrvjEvxPYr9"
   },
   "outputs": [],
   "source": [
    "labels = pd.read_csv('fairface_label_train.csv',header=0)"
   ]
  },
  {
   "cell_type": "code",
   "execution_count": null,
   "metadata": {
    "colab": {
     "base_uri": "https://localhost:8080/"
    },
    "id": "ucWl4OHWPzHP",
    "outputId": "b624b020-cfae-4371-a492-a22ea5e95aca"
   },
   "outputs": [],
   "source": [
    "len(labels)"
   ]
  },
  {
   "cell_type": "code",
   "execution_count": null,
   "metadata": {
    "colab": {
     "base_uri": "https://localhost:8080/"
    },
    "id": "jktZVpfGP0Vw",
    "outputId": "83686fee-6672-41be-9ad2-e3d6f470113b"
   },
   "outputs": [],
   "source": [
    "images = os.listdir('train')\n",
    "\n",
    "print(len(images))"
   ]
  },
  {
   "cell_type": "code",
   "execution_count": null,
   "metadata": {
    "colab": {
     "base_uri": "https://localhost:8080/"
    },
    "id": "Kcjsn9sQQO5_",
    "outputId": "6955b14f-2596-4fd5-ef0b-fa0c000bb726"
   },
   "outputs": [],
   "source": [
    "races = labels['race'].unique()\n",
    "\n",
    "print(races)"
   ]
  },
  {
   "cell_type": "code",
   "execution_count": null,
   "metadata": {
    "id": "lLiNEOfL4XAb"
   },
   "outputs": [],
   "source": [
    "! rm -rf dataset/"
   ]
  },
  {
   "cell_type": "code",
   "execution_count": null,
   "metadata": {
    "id": "B4lstkfZQjmf"
   },
   "outputs": [],
   "source": [
    "\n",
    "path = Path('dataset')\n",
    "train = Path('train')\n",
    "if not path.exists():\n",
    "  path.mkdir()\n",
    "  for race in races:\n",
    "    dest = (path/race)\n",
    "    dest.mkdir() "
   ]
  },
  {
   "cell_type": "code",
   "execution_count": null,
   "metadata": {
    "colab": {
     "base_uri": "https://localhost:8080/"
    },
    "id": "nub57OBZxNfy",
    "outputId": "afa240f6-6d2c-4936-8819-48f448a41a69"
   },
   "outputs": [],
   "source": [
    "print(random.random())"
   ]
  },
  {
   "cell_type": "code",
   "execution_count": null,
   "metadata": {
    "colab": {
     "base_uri": "https://localhost:8080/"
    },
    "id": "vrQEAJtVRFRh",
    "outputId": "1bce1d65-63fb-41b6-d256-63b7de98d13a"
   },
   "outputs": [],
   "source": [
    "for _,image in tqdm(labels.iterrows()):\n",
    "  # print(image)\n",
    "  image_name = image.file\n",
    "  image_race = image.race\n",
    "  \n",
    "  dest = Path(path/image_race)\n",
    "  source = Path(image_name)\n",
    "  if random.random() > 0.90:\n",
    "    copy2(source,dest)\n",
    "  \n"
   ]
  },
  {
   "cell_type": "code",
   "execution_count": null,
   "metadata": {
    "id": "1DwCbhxKSNAU"
   },
   "outputs": [],
   "source": [
    "images = DataBlock( blocks=(ImageBlock, CategoryBlock),\n",
    "                   get_items=get_image_files,\n",
    "                   splitter=RandomSplitter(valid_pct=0.2, seed = 7),\n",
    "                   get_y=parent_label\n",
    "                  #  item_tfms= Resize(128) \n",
    "                   \n",
    "                   )"
   ]
  },
  {
   "cell_type": "code",
   "execution_count": null,
   "metadata": {
    "id": "YNmOMWiBgzI6"
   },
   "outputs": [],
   "source": [
    "data_loaders = images.dataloaders(path)"
   ]
  },
  {
   "cell_type": "code",
   "execution_count": null,
   "metadata": {
    "colab": {
     "base_uri": "https://localhost:8080/",
     "height": 370
    },
    "id": "cte7G-1yg8gW",
    "outputId": "11d392fa-c408-45c3-d4f8-53b6229ba032"
   },
   "outputs": [],
   "source": [
    "data_loaders.train.show_batch(max_n=10, nrows=2)\n"
   ]
  },
  {
   "cell_type": "markdown",
   "metadata": {
    "id": "kS7G4sMYhliN"
   },
   "source": [
    "### Data Augmentation"
   ]
  },
  {
   "cell_type": "code",
   "execution_count": null,
   "metadata": {
    "id": "CKaxhbchhLNi"
   },
   "outputs": [],
   "source": [
    "# images = images.new(item_tfms= RandomResizedCrop(224,min_scale=0.6), batch_tfms= aug_transforms())\n",
    "\n",
    "# data_loaders = images.dataloaders(path, batch_size=64)\n",
    "\n"
   ]
  },
  {
   "cell_type": "code",
   "execution_count": null,
   "metadata": {
    "colab": {
     "base_uri": "https://localhost:8080/"
    },
    "id": "uVlTDqkKkKnB",
    "outputId": "90065837-8cde-4133-88bc-583aed717c48"
   },
   "outputs": [],
   "source": [
    "print( len(data_loaders.train) )"
   ]
  },
  {
   "cell_type": "markdown",
   "metadata": {},
   "source": [
    "# Training"
   ]
  },
  {
   "cell_type": "code",
   "execution_count": null,
   "metadata": {
    "id": "XLa1R9_CiZhL"
   },
   "outputs": [],
   "source": [
    "  # learn = cnn_learner( data_loaders, resnet18, metrics=error_rate)\n",
    "\n",
    "\n",
    "  # learn.fine_tune(4)\n",
    "\n"
   ]
  },
  {
   "cell_type": "code",
   "execution_count": null,
   "metadata": {
    "colab": {
     "base_uri": "https://localhost:8080/"
    },
    "id": "ukJMrIKV7kSN",
    "outputId": "fcc3aa3a-d75d-4b19-898c-9d3db3c9c7ef"
   },
   "outputs": [],
   "source": [
    "# images = images.new(item_tfms= RandomResizedCrop(224,min_scale=0.5), batch_tfms= aug_transforms())\n",
    "\n",
    "data_loaders = images.dataloaders(path, batch_size=64)\n",
    "\n",
    "learn = cnn_learner( data_loaders, resnet18, metrics=error_rate)\n",
    "\n"
   ]
  },
  {
   "cell_type": "code",
   "execution_count": 5,
   "metadata": {
    "colab": {
     "base_uri": "https://localhost:8080/"
    },
    "id": "lpYGiCnpX58V",
    "outputId": "dd04a7aa-15c6-4aa0-88a7-d33af0c6b0df"
   },
   "outputs": [
    {
     "name": "stdout",
     "output_type": "stream",
     "text": [
      "Downloading...\n",
      "From: https://drive.google.com/uc?id=1anHAluKGq1W-sKEZklU-oMf8H7Tq_hL1\n",
      "To: /media/Desktop/Projects/FastAi-C1/race_calssifier.pkl\n",
      "100%|███████████████████████████████████████| 47.1M/47.1M [00:50<00:00, 937kB/s]\n"
     ]
    }
   ],
   "source": [
    "if TRAIN:\n",
    "  learn.fine_tune(8)\n",
    "  interp = ClassificationInterpretation.from_learner(learn)\n",
    "  interp.plot_confusion_matrix()\n",
    "  interp.plot_top_losses(5, nrows=5)\n",
    "\n",
    "else:\n",
    "  !gdown --id  1anHAluKGq1W-sKEZklU-oMf8H7Tq_hL1\n",
    "  learn  = load_learner('race_calssifier.pkl')"
   ]
  },
  {
   "cell_type": "markdown",
   "metadata": {},
   "source": [
    "# Saving Model"
   ]
  },
  {
   "cell_type": "code",
   "execution_count": null,
   "metadata": {
    "id": "WhtGkGi5Vd0C"
   },
   "outputs": [],
   "source": [
    "## Saving Model to drive\n",
    "\n",
    "# learn.export(fname='race_calssifier.pkl')\n",
    "# !cp race_calssifier.pkl  gdrive/MyDrive/Models/ "
   ]
  },
  {
   "cell_type": "markdown",
   "metadata": {},
   "source": [
    "# Simple GUI\n"
   ]
  },
  {
   "cell_type": "code",
   "execution_count": 6,
   "metadata": {
    "id": "GuGa93xDFqVi"
   },
   "outputs": [],
   "source": [
    "btn_upload = widgets.FileUpload()\n",
    "btn_classify = widgets.Button(description='Classify')\n",
    "out_pl = widgets.Output()\n",
    "lbl_pred = widgets.Label()"
   ]
  },
  {
   "cell_type": "code",
   "execution_count": 7,
   "metadata": {
    "id": "41rGQjdeFl06"
   },
   "outputs": [],
   "source": [
    "def on_click_classify(change):\n",
    "  \n",
    "  out_pl.clear_output()\n",
    "  lbl_pred.value = ''\n",
    "  if len(btn_upload.data) > 0:\n",
    "    img = PILImage.create(btn_upload.data[-1])\n",
    "    pred,pred_idx,probs = learn.predict(img)\n",
    "\n",
    "    \n",
    "    with out_pl: display(img.to_thumb(128,128))\n",
    "    \n",
    "    lbl_pred.value = f'Prediction: {pred}; Probability: {probs[pred_idx]:.04f}'\n",
    "    \n",
    "  else:\n",
    "\n",
    "    lbl_pred.value = 'Please upload an image first!'\n",
    "\n",
    "\n",
    "\n",
    "btn_classify.on_click(on_click_classify)"
   ]
  },
  {
   "cell_type": "code",
   "execution_count": 8,
   "metadata": {
    "colab": {
     "base_uri": "https://localhost:8080/",
     "height": 145,
     "referenced_widgets": [
      "867fba3e348249298e67b577b9ea9e98",
      "3740e73d5e6b486d9f43c0a2fecd988a",
      "01b092d52ca54f4b882e73d76269879e",
      "480d2c12e86e45b7b6532875f712708d",
      "64f5b9e8acf9426a9891fe5efd883c43",
      "3869ff49c68141f3a2d464bc012b2037",
      "b53c329366824267b4c1925f9f24f68a",
      "bba02ee0d5674ee8b2d6b43b86e8c009",
      "e5c23f9640d24089a5545d4b6e58bdbd",
      "811aacdf23c9421f8f7af886f54a1acc",
      "7b361e55d76a4573a4443cfc2e0b79f2",
      "a949734eb8c54477a2faf9bacc6f9dc4",
      "84d1cd2fcceb4279a93474fed087969b",
      "14aad888550a432eabf834de7ed33fa7",
      "e2c8350aafe94db1a48c85a05329ffa6",
      "4c9a56f9ff59451c829fbce0d3aeeea3"
     ]
    },
    "id": "LiyWzVq_F9Wr",
    "outputId": "b5b207c2-85a6-441a-834d-ae9d96ff25fb"
   },
   "outputs": [
    {
     "data": {
      "application/vnd.jupyter.widget-view+json": {
       "model_id": "9f8636314e444aa39a2072a35d12bb5a",
       "version_major": 2,
       "version_minor": 0
      },
      "text/plain": [
       "VBox(children=(Label(value='Select your Face image!'), FileUpload(value={}, description='Upload'), Button(desc…"
      ]
     },
     "metadata": {},
     "output_type": "display_data"
    },
    {
     "data": {
      "text/html": [],
      "text/plain": [
       "<IPython.core.display.HTML object>"
      ]
     },
     "metadata": {},
     "output_type": "display_data"
    }
   ],
   "source": [
    "VBox([widgets.Label('Select your Face image!'), \n",
    "      btn_upload, btn_classify, out_pl, lbl_pred])"
   ]
  },
  {
   "cell_type": "code",
   "execution_count": 9,
   "metadata": {
    "id": "BJzaedoEGAnb"
   },
   "outputs": [
    {
     "name": "stdout",
     "output_type": "stream",
     "text": [
      "Collecting voila\n",
      "  Downloading voila-0.2.16-py3-none-any.whl (1.6 MB)\n",
      "\u001b[K     |████████████████████████████████| 1.6 MB 963 kB/s eta 0:00:01\n",
      "\u001b[?25hCollecting nbconvert<7,>=6.0.0\n",
      "  Downloading nbconvert-6.2.0-py3-none-any.whl (553 kB)\n",
      "\u001b[K     |████████████████████████████████| 553 kB 854 kB/s eta 0:00:01\n",
      "\u001b[?25hRequirement already satisfied: nbclient<0.6,>=0.4.0 in /home/boda/.local/lib/python3.8/site-packages (from voila) (0.5.1)\n",
      "Requirement already satisfied: jupyter-client<7,>=6.1.3 in /home/boda/.local/lib/python3.8/site-packages (from voila) (6.1.7)\n",
      "Collecting jupyter-server<2.0.0,>=0.3.0\n",
      "  Downloading jupyter_server-1.11.1-py3-none-any.whl (393 kB)\n",
      "\u001b[K     |████████████████████████████████| 393 kB 875 kB/s eta 0:00:01\n",
      "\u001b[?25hRequirement already satisfied: python-dateutil>=2.1 in /home/boda/.local/lib/python3.8/site-packages (from jupyter-client<7,>=6.1.3->voila) (2.7.5)\n",
      "Requirement already satisfied: tornado>=4.1 in /home/boda/.local/lib/python3.8/site-packages (from jupyter-client<7,>=6.1.3->voila) (6.1)\n",
      "Requirement already satisfied: traitlets in /home/boda/.local/lib/python3.8/site-packages (from jupyter-client<7,>=6.1.3->voila) (5.0.5)\n",
      "Requirement already satisfied: jupyter-core>=4.6.0 in /home/boda/.local/lib/python3.8/site-packages (from jupyter-client<7,>=6.1.3->voila) (4.7.0)\n",
      "Requirement already satisfied: pyzmq>=13 in /home/boda/.local/lib/python3.8/site-packages (from jupyter-client<7,>=6.1.3->voila) (20.0.0)\n",
      "Requirement already satisfied: prometheus-client in /home/boda/.local/lib/python3.8/site-packages (from jupyter-server<2.0.0,>=0.3.0->voila) (0.9.0)\n",
      "Requirement already satisfied: ipython-genutils in /home/boda/.local/lib/python3.8/site-packages (from jupyter-server<2.0.0,>=0.3.0->voila) (0.2.0)\n",
      "Requirement already satisfied: argon2-cffi in /home/boda/.local/lib/python3.8/site-packages (from jupyter-server<2.0.0,>=0.3.0->voila) (20.1.0)\n",
      "Collecting anyio<4,>=3.1.0\n",
      "  Downloading anyio-3.3.2-py3-none-any.whl (78 kB)\n",
      "\u001b[K     |████████████████████████████████| 78 kB 836 kB/s eta 0:00:01\n",
      "\u001b[?25hRequirement already satisfied: Send2Trash in /home/boda/.local/lib/python3.8/site-packages (from jupyter-server<2.0.0,>=0.3.0->voila) (1.5.0)\n",
      "Requirement already satisfied: terminado>=0.8.3 in /home/boda/.local/lib/python3.8/site-packages (from jupyter-server<2.0.0,>=0.3.0->voila) (0.9.1)\n",
      "Collecting requests-unixsocket\n",
      "  Downloading requests_unixsocket-0.2.0-py2.py3-none-any.whl (11 kB)\n",
      "Requirement already satisfied: jinja2 in /home/boda/anaconda3/lib/python3.8/site-packages (from jupyter-server<2.0.0,>=0.3.0->voila) (3.0.0)\n",
      "Requirement already satisfied: nbformat in /home/boda/.local/lib/python3.8/site-packages (from jupyter-server<2.0.0,>=0.3.0->voila) (5.0.8)\n",
      "Collecting websocket-client\n",
      "  Downloading websocket_client-1.2.1-py2.py3-none-any.whl (52 kB)\n",
      "\u001b[K     |████████████████████████████████| 52 kB 485 kB/s eta 0:00:01\n",
      "\u001b[?25hRequirement already satisfied: idna>=2.8 in /home/boda/anaconda3/lib/python3.8/site-packages (from anyio<4,>=3.1.0->jupyter-server<2.0.0,>=0.3.0->voila) (2.10)\n",
      "Collecting sniffio>=1.1\n",
      "  Using cached sniffio-1.2.0-py3-none-any.whl (10 kB)\n",
      "Requirement already satisfied: async-generator in /home/boda/.local/lib/python3.8/site-packages (from nbclient<0.6,>=0.4.0->voila) (1.10)\n",
      "Requirement already satisfied: nest-asyncio in /home/boda/.local/lib/python3.8/site-packages (from nbclient<0.6,>=0.4.0->voila) (1.4.3)\n",
      "Requirement already satisfied: entrypoints>=0.2.2 in /home/boda/.local/lib/python3.8/site-packages (from nbconvert<7,>=6.0.0->voila) (0.3)\n",
      "Requirement already satisfied: pygments>=2.4.1 in /home/boda/.local/lib/python3.8/site-packages (from nbconvert<7,>=6.0.0->voila) (2.7.2)\n",
      "Requirement already satisfied: testpath in /home/boda/.local/lib/python3.8/site-packages (from nbconvert<7,>=6.0.0->voila) (0.4.4)\n",
      "Requirement already satisfied: bleach in /home/boda/.local/lib/python3.8/site-packages (from nbconvert<7,>=6.0.0->voila) (3.2.1)\n",
      "Requirement already satisfied: defusedxml in /home/boda/.local/lib/python3.8/site-packages (from nbconvert<7,>=6.0.0->voila) (0.6.0)\n",
      "Requirement already satisfied: mistune<2,>=0.8.1 in /home/boda/.local/lib/python3.8/site-packages (from nbconvert<7,>=6.0.0->voila) (0.8.4)\n",
      "Requirement already satisfied: pandocfilters>=1.4.1 in /home/boda/.local/lib/python3.8/site-packages (from nbconvert<7,>=6.0.0->voila) (1.4.3)\n",
      "Requirement already satisfied: jupyterlab-pygments in /home/boda/.local/lib/python3.8/site-packages (from nbconvert<7,>=6.0.0->voila) (0.1.2)\n",
      "Requirement already satisfied: MarkupSafe>=2.0.0rc2 in /home/boda/anaconda3/lib/python3.8/site-packages (from jinja2->jupyter-server<2.0.0,>=0.3.0->voila) (2.0.1)\n",
      "Requirement already satisfied: jsonschema!=2.5.0,>=2.4 in /home/boda/.local/lib/python3.8/site-packages (from nbformat->jupyter-server<2.0.0,>=0.3.0->voila) (3.2.0)\n",
      "Requirement already satisfied: six>=1.11.0 in /home/boda/anaconda3/lib/python3.8/site-packages (from jsonschema!=2.5.0,>=2.4->nbformat->jupyter-server<2.0.0,>=0.3.0->voila) (1.16.0)\n",
      "Requirement already satisfied: pyrsistent>=0.14.0 in /home/boda/.local/lib/python3.8/site-packages (from jsonschema!=2.5.0,>=2.4->nbformat->jupyter-server<2.0.0,>=0.3.0->voila) (0.17.3)\n",
      "Requirement already satisfied: setuptools in /home/boda/.local/lib/python3.8/site-packages (from jsonschema!=2.5.0,>=2.4->nbformat->jupyter-server<2.0.0,>=0.3.0->voila) (51.1.0)\n",
      "Requirement already satisfied: attrs>=17.4.0 in /home/boda/.local/lib/python3.8/site-packages (from jsonschema!=2.5.0,>=2.4->nbformat->jupyter-server<2.0.0,>=0.3.0->voila) (20.2.0)\n",
      "Requirement already satisfied: ptyprocess in /home/boda/.local/lib/python3.8/site-packages (from terminado>=0.8.3->jupyter-server<2.0.0,>=0.3.0->voila) (0.6.0)\n",
      "Requirement already satisfied: cffi>=1.0.0 in /home/boda/.local/lib/python3.8/site-packages (from argon2-cffi->jupyter-server<2.0.0,>=0.3.0->voila) (1.14.4)\n",
      "Requirement already satisfied: pycparser in /home/boda/.local/lib/python3.8/site-packages (from cffi>=1.0.0->argon2-cffi->jupyter-server<2.0.0,>=0.3.0->voila) (2.20)\n",
      "Requirement already satisfied: webencodings in /home/boda/.local/lib/python3.8/site-packages (from bleach->nbconvert<7,>=6.0.0->voila) (0.5.1)\n",
      "Requirement already satisfied: packaging in /home/boda/.local/lib/python3.8/site-packages (from bleach->nbconvert<7,>=6.0.0->voila) (20.4)\n",
      "Requirement already satisfied: pyparsing>=2.0.2 in /home/boda/.local/lib/python3.8/site-packages (from packaging->bleach->nbconvert<7,>=6.0.0->voila) (2.4.7)\n",
      "Requirement already satisfied: urllib3>=1.8 in /home/boda/anaconda3/lib/python3.8/site-packages (from requests-unixsocket->jupyter-server<2.0.0,>=0.3.0->voila) (1.26.4)\n",
      "Requirement already satisfied: requests>=1.1 in /home/boda/anaconda3/lib/python3.8/site-packages (from requests-unixsocket->jupyter-server<2.0.0,>=0.3.0->voila) (2.25.1)\n",
      "Requirement already satisfied: certifi>=2017.4.17 in /home/boda/anaconda3/lib/python3.8/site-packages (from requests>=1.1->requests-unixsocket->jupyter-server<2.0.0,>=0.3.0->voila) (2021.5.30)\n",
      "Requirement already satisfied: chardet<5,>=3.0.2 in /home/boda/anaconda3/lib/python3.8/site-packages (from requests>=1.1->requests-unixsocket->jupyter-server<2.0.0,>=0.3.0->voila) (4.0.0)\n",
      "Installing collected packages: sniffio, websocket-client, requests-unixsocket, nbconvert, anyio, jupyter-server, voila\n",
      "  Attempting uninstall: nbconvert\n",
      "    Found existing installation: nbconvert 5.6.1\n",
      "    Uninstalling nbconvert-5.6.1:\n",
      "      Successfully uninstalled nbconvert-5.6.1\n",
      "\u001b[31mERROR: pip's dependency resolver does not currently take into account all the packages that are installed. This behaviour is the source of the following dependency conflicts.\n",
      "spyder 4.1.5 requires pyqt5<5.13; python_version >= \"3\", which is not installed.\n",
      "spyder 4.1.5 requires pyqtwebengine<5.13; python_version >= \"3\", which is not installed.\n",
      "spyder 4.1.5 requires jedi==0.17.1, but you have jedi 0.17.2 which is incompatible.\n",
      "spyder 4.1.5 requires parso==0.7.0, but you have parso 0.7.1 which is incompatible.\n",
      "nbdev 1.1.22 requires nbconvert<6, but you have nbconvert 6.2.0 which is incompatible.\u001b[0m\n",
      "Successfully installed anyio-3.3.2 jupyter-server-1.11.1 nbconvert-6.2.0 requests-unixsocket-0.2.0 sniffio-1.2.0 voila-0.2.16 websocket-client-1.2.1\n"
     ]
    }
   ],
   "source": [
    "\n"
   ]
  },
  {
   "cell_type": "code",
   "execution_count": 11,
   "metadata": {
    "colab": {
     "base_uri": "https://localhost:8080/"
    },
    "id": "DqmmT19wTA6d",
    "outputId": "9a997733-b58b-4f34-f9a9-e2f18de5181a"
   },
   "outputs": [
    {
     "name": "stdout",
     "output_type": "stream",
     "text": [
      "Enabling: voila\n",
      "- Writing config: /home/boda/anaconda3/etc/jupyter\n",
      "    - Validating...\n",
      "      voila 0.2.16 \u001b[32mOK\u001b[0m\n"
     ]
    }
   ],
   "source": []
  },
  {
   "cell_type": "code",
   "execution_count": null,
   "metadata": {
    "id": "grw4Dpn8cmeX"
   },
   "outputs": [],
   "source": []
  }
 ],
 "metadata": {
  "accelerator": "GPU",
  "colab": {
   "authorship_tag": "ABX9TyM1PTQ+QgtQXhvR96fr8K2Z",
   "collapsed_sections": [],
   "include_colab_link": true,
   "name": "FastAi-Lesson2.ipynb",
   "provenance": []
  },
  "kernelspec": {
   "display_name": "Python 3",
   "language": "python",
   "name": "python3"
  },
  "language_info": {
   "codemirror_mode": {
    "name": "ipython",
    "version": 3
   },
   "file_extension": ".py",
   "mimetype": "text/x-python",
   "name": "python",
   "nbconvert_exporter": "python",
   "pygments_lexer": "ipython3",
   "version": "3.8.6"
  },
  "widgets": {
   "application/vnd.jupyter.widget-state+json": {
    "01b092d52ca54f4b882e73d76269879e": {
     "model_module": "@jupyter-widgets/controls",
     "model_module_version": "1.5.0",
     "model_name": "LabelModel",
     "state": {
      "_dom_classes": [],
      "_model_module": "@jupyter-widgets/controls",
      "_model_module_version": "1.5.0",
      "_model_name": "LabelModel",
      "_view_count": null,
      "_view_module": "@jupyter-widgets/controls",
      "_view_module_version": "1.5.0",
      "_view_name": "LabelView",
      "description": "",
      "description_tooltip": null,
      "layout": "IPY_MODEL_e5c23f9640d24089a5545d4b6e58bdbd",
      "placeholder": "​",
      "style": "IPY_MODEL_bba02ee0d5674ee8b2d6b43b86e8c009",
      "value": "Select your Face image!"
     }
    },
    "14aad888550a432eabf834de7ed33fa7": {
     "model_module": "@jupyter-widgets/controls",
     "model_module_version": "1.5.0",
     "model_name": "DescriptionStyleModel",
     "state": {
      "_model_module": "@jupyter-widgets/controls",
      "_model_module_version": "1.5.0",
      "_model_name": "DescriptionStyleModel",
      "_view_count": null,
      "_view_module": "@jupyter-widgets/base",
      "_view_module_version": "1.2.0",
      "_view_name": "StyleView",
      "description_width": ""
     }
    },
    "3740e73d5e6b486d9f43c0a2fecd988a": {
     "model_module": "@jupyter-widgets/base",
     "model_module_version": "1.2.0",
     "model_name": "LayoutModel",
     "state": {
      "_model_module": "@jupyter-widgets/base",
      "_model_module_version": "1.2.0",
      "_model_name": "LayoutModel",
      "_view_count": null,
      "_view_module": "@jupyter-widgets/base",
      "_view_module_version": "1.2.0",
      "_view_name": "LayoutView",
      "align_content": null,
      "align_items": null,
      "align_self": null,
      "border": null,
      "bottom": null,
      "display": null,
      "flex": null,
      "flex_flow": null,
      "grid_area": null,
      "grid_auto_columns": null,
      "grid_auto_flow": null,
      "grid_auto_rows": null,
      "grid_column": null,
      "grid_gap": null,
      "grid_row": null,
      "grid_template_areas": null,
      "grid_template_columns": null,
      "grid_template_rows": null,
      "height": null,
      "justify_content": null,
      "justify_items": null,
      "left": null,
      "margin": null,
      "max_height": null,
      "max_width": null,
      "min_height": null,
      "min_width": null,
      "object_fit": null,
      "object_position": null,
      "order": null,
      "overflow": null,
      "overflow_x": null,
      "overflow_y": null,
      "padding": null,
      "right": null,
      "top": null,
      "visibility": null,
      "width": null
     }
    },
    "3869ff49c68141f3a2d464bc012b2037": {
     "model_module": "@jupyter-widgets/output",
     "model_module_version": "1.0.0",
     "model_name": "OutputModel",
     "state": {
      "_dom_classes": [],
      "_model_module": "@jupyter-widgets/output",
      "_model_module_version": "1.0.0",
      "_model_name": "OutputModel",
      "_view_count": null,
      "_view_module": "@jupyter-widgets/output",
      "_view_module_version": "1.0.0",
      "_view_name": "OutputView",
      "layout": "IPY_MODEL_4c9a56f9ff59451c829fbce0d3aeeea3",
      "msg_id": "",
      "outputs": []
     }
    },
    "480d2c12e86e45b7b6532875f712708d": {
     "model_module": "@jupyter-widgets/controls",
     "model_module_version": "1.5.0",
     "model_name": "FileUploadModel",
     "state": {
      "_counter": 0,
      "_dom_classes": [],
      "_model_module": "@jupyter-widgets/controls",
      "_model_module_version": "1.5.0",
      "_model_name": "FileUploadModel",
      "_view_count": null,
      "_view_module": "@jupyter-widgets/controls",
      "_view_module_version": "1.5.0",
      "_view_name": "FileUploadView",
      "accept": "",
      "button_style": "",
      "data": [],
      "description": "Upload",
      "description_tooltip": null,
      "disabled": false,
      "error": "",
      "icon": "upload",
      "layout": "IPY_MODEL_7b361e55d76a4573a4443cfc2e0b79f2",
      "metadata": [],
      "multiple": false,
      "style": "IPY_MODEL_811aacdf23c9421f8f7af886f54a1acc"
     }
    },
    "4c9a56f9ff59451c829fbce0d3aeeea3": {
     "model_module": "@jupyter-widgets/base",
     "model_module_version": "1.2.0",
     "model_name": "LayoutModel",
     "state": {
      "_model_module": "@jupyter-widgets/base",
      "_model_module_version": "1.2.0",
      "_model_name": "LayoutModel",
      "_view_count": null,
      "_view_module": "@jupyter-widgets/base",
      "_view_module_version": "1.2.0",
      "_view_name": "LayoutView",
      "align_content": null,
      "align_items": null,
      "align_self": null,
      "border": null,
      "bottom": null,
      "display": null,
      "flex": null,
      "flex_flow": null,
      "grid_area": null,
      "grid_auto_columns": null,
      "grid_auto_flow": null,
      "grid_auto_rows": null,
      "grid_column": null,
      "grid_gap": null,
      "grid_row": null,
      "grid_template_areas": null,
      "grid_template_columns": null,
      "grid_template_rows": null,
      "height": null,
      "justify_content": null,
      "justify_items": null,
      "left": null,
      "margin": null,
      "max_height": null,
      "max_width": null,
      "min_height": null,
      "min_width": null,
      "object_fit": null,
      "object_position": null,
      "order": null,
      "overflow": null,
      "overflow_x": null,
      "overflow_y": null,
      "padding": null,
      "right": null,
      "top": null,
      "visibility": null,
      "width": null
     }
    },
    "64f5b9e8acf9426a9891fe5efd883c43": {
     "model_module": "@jupyter-widgets/controls",
     "model_module_version": "1.5.0",
     "model_name": "ButtonModel",
     "state": {
      "_dom_classes": [],
      "_model_module": "@jupyter-widgets/controls",
      "_model_module_version": "1.5.0",
      "_model_name": "ButtonModel",
      "_view_count": null,
      "_view_module": "@jupyter-widgets/controls",
      "_view_module_version": "1.5.0",
      "_view_name": "ButtonView",
      "button_style": "",
      "description": "Classify",
      "disabled": false,
      "icon": "",
      "layout": "IPY_MODEL_84d1cd2fcceb4279a93474fed087969b",
      "style": "IPY_MODEL_a949734eb8c54477a2faf9bacc6f9dc4",
      "tooltip": ""
     }
    },
    "7b361e55d76a4573a4443cfc2e0b79f2": {
     "model_module": "@jupyter-widgets/base",
     "model_module_version": "1.2.0",
     "model_name": "LayoutModel",
     "state": {
      "_model_module": "@jupyter-widgets/base",
      "_model_module_version": "1.2.0",
      "_model_name": "LayoutModel",
      "_view_count": null,
      "_view_module": "@jupyter-widgets/base",
      "_view_module_version": "1.2.0",
      "_view_name": "LayoutView",
      "align_content": null,
      "align_items": null,
      "align_self": null,
      "border": null,
      "bottom": null,
      "display": null,
      "flex": null,
      "flex_flow": null,
      "grid_area": null,
      "grid_auto_columns": null,
      "grid_auto_flow": null,
      "grid_auto_rows": null,
      "grid_column": null,
      "grid_gap": null,
      "grid_row": null,
      "grid_template_areas": null,
      "grid_template_columns": null,
      "grid_template_rows": null,
      "height": null,
      "justify_content": null,
      "justify_items": null,
      "left": null,
      "margin": null,
      "max_height": null,
      "max_width": null,
      "min_height": null,
      "min_width": null,
      "object_fit": null,
      "object_position": null,
      "order": null,
      "overflow": null,
      "overflow_x": null,
      "overflow_y": null,
      "padding": null,
      "right": null,
      "top": null,
      "visibility": null,
      "width": null
     }
    },
    "811aacdf23c9421f8f7af886f54a1acc": {
     "model_module": "@jupyter-widgets/controls",
     "model_module_version": "1.5.0",
     "model_name": "ButtonStyleModel",
     "state": {
      "_model_module": "@jupyter-widgets/controls",
      "_model_module_version": "1.5.0",
      "_model_name": "ButtonStyleModel",
      "_view_count": null,
      "_view_module": "@jupyter-widgets/base",
      "_view_module_version": "1.2.0",
      "_view_name": "StyleView",
      "button_color": null,
      "font_weight": ""
     }
    },
    "84d1cd2fcceb4279a93474fed087969b": {
     "model_module": "@jupyter-widgets/base",
     "model_module_version": "1.2.0",
     "model_name": "LayoutModel",
     "state": {
      "_model_module": "@jupyter-widgets/base",
      "_model_module_version": "1.2.0",
      "_model_name": "LayoutModel",
      "_view_count": null,
      "_view_module": "@jupyter-widgets/base",
      "_view_module_version": "1.2.0",
      "_view_name": "LayoutView",
      "align_content": null,
      "align_items": null,
      "align_self": null,
      "border": null,
      "bottom": null,
      "display": null,
      "flex": null,
      "flex_flow": null,
      "grid_area": null,
      "grid_auto_columns": null,
      "grid_auto_flow": null,
      "grid_auto_rows": null,
      "grid_column": null,
      "grid_gap": null,
      "grid_row": null,
      "grid_template_areas": null,
      "grid_template_columns": null,
      "grid_template_rows": null,
      "height": null,
      "justify_content": null,
      "justify_items": null,
      "left": null,
      "margin": null,
      "max_height": null,
      "max_width": null,
      "min_height": null,
      "min_width": null,
      "object_fit": null,
      "object_position": null,
      "order": null,
      "overflow": null,
      "overflow_x": null,
      "overflow_y": null,
      "padding": null,
      "right": null,
      "top": null,
      "visibility": null,
      "width": null
     }
    },
    "867fba3e348249298e67b577b9ea9e98": {
     "model_module": "@jupyter-widgets/controls",
     "model_module_version": "1.5.0",
     "model_name": "VBoxModel",
     "state": {
      "_dom_classes": [],
      "_model_module": "@jupyter-widgets/controls",
      "_model_module_version": "1.5.0",
      "_model_name": "VBoxModel",
      "_view_count": null,
      "_view_module": "@jupyter-widgets/controls",
      "_view_module_version": "1.5.0",
      "_view_name": "VBoxView",
      "box_style": "",
      "children": [
       "IPY_MODEL_01b092d52ca54f4b882e73d76269879e",
       "IPY_MODEL_480d2c12e86e45b7b6532875f712708d",
       "IPY_MODEL_64f5b9e8acf9426a9891fe5efd883c43",
       "IPY_MODEL_3869ff49c68141f3a2d464bc012b2037",
       "IPY_MODEL_b53c329366824267b4c1925f9f24f68a"
      ],
      "layout": "IPY_MODEL_3740e73d5e6b486d9f43c0a2fecd988a"
     }
    },
    "a949734eb8c54477a2faf9bacc6f9dc4": {
     "model_module": "@jupyter-widgets/controls",
     "model_module_version": "1.5.0",
     "model_name": "ButtonStyleModel",
     "state": {
      "_model_module": "@jupyter-widgets/controls",
      "_model_module_version": "1.5.0",
      "_model_name": "ButtonStyleModel",
      "_view_count": null,
      "_view_module": "@jupyter-widgets/base",
      "_view_module_version": "1.2.0",
      "_view_name": "StyleView",
      "button_color": null,
      "font_weight": ""
     }
    },
    "b53c329366824267b4c1925f9f24f68a": {
     "model_module": "@jupyter-widgets/controls",
     "model_module_version": "1.5.0",
     "model_name": "LabelModel",
     "state": {
      "_dom_classes": [],
      "_model_module": "@jupyter-widgets/controls",
      "_model_module_version": "1.5.0",
      "_model_name": "LabelModel",
      "_view_count": null,
      "_view_module": "@jupyter-widgets/controls",
      "_view_module_version": "1.5.0",
      "_view_name": "LabelView",
      "description": "",
      "description_tooltip": null,
      "layout": "IPY_MODEL_e2c8350aafe94db1a48c85a05329ffa6",
      "placeholder": "​",
      "style": "IPY_MODEL_14aad888550a432eabf834de7ed33fa7",
      "value": ""
     }
    },
    "bba02ee0d5674ee8b2d6b43b86e8c009": {
     "model_module": "@jupyter-widgets/controls",
     "model_module_version": "1.5.0",
     "model_name": "DescriptionStyleModel",
     "state": {
      "_model_module": "@jupyter-widgets/controls",
      "_model_module_version": "1.5.0",
      "_model_name": "DescriptionStyleModel",
      "_view_count": null,
      "_view_module": "@jupyter-widgets/base",
      "_view_module_version": "1.2.0",
      "_view_name": "StyleView",
      "description_width": ""
     }
    },
    "e2c8350aafe94db1a48c85a05329ffa6": {
     "model_module": "@jupyter-widgets/base",
     "model_module_version": "1.2.0",
     "model_name": "LayoutModel",
     "state": {
      "_model_module": "@jupyter-widgets/base",
      "_model_module_version": "1.2.0",
      "_model_name": "LayoutModel",
      "_view_count": null,
      "_view_module": "@jupyter-widgets/base",
      "_view_module_version": "1.2.0",
      "_view_name": "LayoutView",
      "align_content": null,
      "align_items": null,
      "align_self": null,
      "border": null,
      "bottom": null,
      "display": null,
      "flex": null,
      "flex_flow": null,
      "grid_area": null,
      "grid_auto_columns": null,
      "grid_auto_flow": null,
      "grid_auto_rows": null,
      "grid_column": null,
      "grid_gap": null,
      "grid_row": null,
      "grid_template_areas": null,
      "grid_template_columns": null,
      "grid_template_rows": null,
      "height": null,
      "justify_content": null,
      "justify_items": null,
      "left": null,
      "margin": null,
      "max_height": null,
      "max_width": null,
      "min_height": null,
      "min_width": null,
      "object_fit": null,
      "object_position": null,
      "order": null,
      "overflow": null,
      "overflow_x": null,
      "overflow_y": null,
      "padding": null,
      "right": null,
      "top": null,
      "visibility": null,
      "width": null
     }
    },
    "e5c23f9640d24089a5545d4b6e58bdbd": {
     "model_module": "@jupyter-widgets/base",
     "model_module_version": "1.2.0",
     "model_name": "LayoutModel",
     "state": {
      "_model_module": "@jupyter-widgets/base",
      "_model_module_version": "1.2.0",
      "_model_name": "LayoutModel",
      "_view_count": null,
      "_view_module": "@jupyter-widgets/base",
      "_view_module_version": "1.2.0",
      "_view_name": "LayoutView",
      "align_content": null,
      "align_items": null,
      "align_self": null,
      "border": null,
      "bottom": null,
      "display": null,
      "flex": null,
      "flex_flow": null,
      "grid_area": null,
      "grid_auto_columns": null,
      "grid_auto_flow": null,
      "grid_auto_rows": null,
      "grid_column": null,
      "grid_gap": null,
      "grid_row": null,
      "grid_template_areas": null,
      "grid_template_columns": null,
      "grid_template_rows": null,
      "height": null,
      "justify_content": null,
      "justify_items": null,
      "left": null,
      "margin": null,
      "max_height": null,
      "max_width": null,
      "min_height": null,
      "min_width": null,
      "object_fit": null,
      "object_position": null,
      "order": null,
      "overflow": null,
      "overflow_x": null,
      "overflow_y": null,
      "padding": null,
      "right": null,
      "top": null,
      "visibility": null,
      "width": null
     }
    }
   }
  }
 },
 "nbformat": 4,
 "nbformat_minor": 1
}
